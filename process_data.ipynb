{
 "cells": [
  {
   "cell_type": "code",
   "execution_count": 27,
   "metadata": {},
   "outputs": [],
   "source": [
    "import pandas as pd\n",
    "import sqlite3\n",
    "from sqlalchemy import create_engine\n",
    "from functools import reduce"
   ]
  },
  {
   "cell_type": "code",
   "execution_count": 28,
   "metadata": {},
   "outputs": [
    {
     "name": "stdout",
     "output_type": "stream",
     "text": [
      "(26248, 4)\n",
      "   id                                            message  \\\n",
      "0   2  Weather update - a cold front from Cuba that c...   \n",
      "1   7            Is the Hurricane over or is it not over   \n",
      "2   8                    Looking for someone but no name   \n",
      "3   9  UN reports Leogane 80-90 destroyed. Only Hospi...   \n",
      "4  12  says: west side of Haiti, rest of the country ...   \n",
      "\n",
      "                                            original   genre  \n",
      "0  Un front froid se retrouve sur Cuba ce matin. ...  direct  \n",
      "1                 Cyclone nan fini osinon li pa fini  direct  \n",
      "2  Patnm, di Maryani relem pou li banm nouvel li ...  direct  \n",
      "3  UN reports Leogane 80-90 destroyed. Only Hospi...  direct  \n",
      "4  facade ouest d Haiti et le reste du pays aujou...  direct  \n",
      "(26248, 2)\n",
      "   id                                         categories\n",
      "0   2  related-1;request-0;offer-0;aid_related-0;medi...\n",
      "1   7  related-1;request-0;offer-0;aid_related-1;medi...\n",
      "2   8  related-1;request-0;offer-0;aid_related-0;medi...\n",
      "3   9  related-1;request-1;offer-0;aid_related-1;medi...\n",
      "4  12  related-1;request-0;offer-0;aid_related-0;medi...\n"
     ]
    }
   ],
   "source": [
    "# Import data\n",
    "with open('data/disaster_messages.csv', encoding='utf-8') as f:\n",
    "    df_messages = pd.read_csv(f)\n",
    "\n",
    "print(df_messages.shape)\n",
    "print(df_messages.head())\n",
    "\n",
    "with open('data/disaster_categories.csv', encoding='utf-8') as f:\n",
    "    df_categories = pd.read_csv(f)\n",
    "\n",
    "print(df_categories.shape)\n",
    "print(df_categories.head())"
   ]
  },
  {
   "cell_type": "code",
   "execution_count": 29,
   "metadata": {},
   "outputs": [
    {
     "data": {
      "text/html": [
       "<div>\n",
       "<style scoped>\n",
       "    .dataframe tbody tr th:only-of-type {\n",
       "        vertical-align: middle;\n",
       "    }\n",
       "\n",
       "    .dataframe tbody tr th {\n",
       "        vertical-align: top;\n",
       "    }\n",
       "\n",
       "    .dataframe thead th {\n",
       "        text-align: right;\n",
       "    }\n",
       "</style>\n",
       "<table border=\"1\" class=\"dataframe\">\n",
       "  <thead>\n",
       "    <tr style=\"text-align: right;\">\n",
       "      <th></th>\n",
       "      <th>variable</th>\n",
       "      <th>value</th>\n",
       "    </tr>\n",
       "  </thead>\n",
       "  <tbody>\n",
       "    <tr>\n",
       "      <th>0</th>\n",
       "      <td>related</td>\n",
       "      <td>True</td>\n",
       "    </tr>\n",
       "    <tr>\n",
       "      <th>1</th>\n",
       "      <td>related</td>\n",
       "      <td>True</td>\n",
       "    </tr>\n",
       "    <tr>\n",
       "      <th>2</th>\n",
       "      <td>related</td>\n",
       "      <td>True</td>\n",
       "    </tr>\n",
       "    <tr>\n",
       "      <th>3</th>\n",
       "      <td>related</td>\n",
       "      <td>True</td>\n",
       "    </tr>\n",
       "    <tr>\n",
       "      <th>4</th>\n",
       "      <td>related</td>\n",
       "      <td>True</td>\n",
       "    </tr>\n",
       "    <tr>\n",
       "      <th>...</th>\n",
       "      <td>...</td>\n",
       "      <td>...</td>\n",
       "    </tr>\n",
       "    <tr>\n",
       "      <th>944843</th>\n",
       "      <td>direct_report</td>\n",
       "      <td>True</td>\n",
       "    </tr>\n",
       "    <tr>\n",
       "      <th>944893</th>\n",
       "      <td>direct_report</td>\n",
       "      <td>True</td>\n",
       "    </tr>\n",
       "    <tr>\n",
       "      <th>944909</th>\n",
       "      <td>direct_report</td>\n",
       "      <td>True</td>\n",
       "    </tr>\n",
       "    <tr>\n",
       "      <th>944910</th>\n",
       "      <td>direct_report</td>\n",
       "      <td>True</td>\n",
       "    </tr>\n",
       "    <tr>\n",
       "      <th>944919</th>\n",
       "      <td>direct_report</td>\n",
       "      <td>True</td>\n",
       "    </tr>\n",
       "  </tbody>\n",
       "</table>\n",
       "<p>83048 rows × 2 columns</p>\n",
       "</div>"
      ],
      "text/plain": [
       "             variable  value\n",
       "0             related   True\n",
       "1             related   True\n",
       "2             related   True\n",
       "3             related   True\n",
       "4             related   True\n",
       "...               ...    ...\n",
       "944843  direct_report   True\n",
       "944893  direct_report   True\n",
       "944909  direct_report   True\n",
       "944910  direct_report   True\n",
       "944919  direct_report   True\n",
       "\n",
       "[83048 rows x 2 columns]"
      ]
     },
     "execution_count": 29,
     "metadata": {},
     "output_type": "execute_result"
    }
   ],
   "source": [
    "column_names = list(map(lambda s: s[:-2], df_categories['categories'].str.split(';')[0]))\n",
    "df_dummies = df_categories['categories'].str.split(';', expand=True).apply(lambda x: x.str[-1] == '1')\n",
    "df_dummies.columns = column_names\n",
    "df_merged = pd.concat([df_categories, df_dummies], axis=1).drop(columns=['categories', 'id'])\n",
    "df_merged.melt()[df_merged.melt()[\"value\"] == True]"
   ]
  },
  {
   "cell_type": "code",
   "execution_count": 30,
   "metadata": {},
   "outputs": [
    {
     "name": "stdout",
     "output_type": "stream",
     "text": [
      "(26248, 6)\n",
      "   id                                            message  \\\n",
      "0   2  Weather update - a cold front from Cuba that c...   \n",
      "1   7            Is the Hurricane over or is it not over   \n",
      "2   8                    Looking for someone but no name   \n",
      "3   9  UN reports Leogane 80-90 destroyed. Only Hospi...   \n",
      "4  12  says: west side of Haiti, rest of the country ...   \n",
      "\n",
      "                                            original   genre  id  \\\n",
      "0  Un front froid se retrouve sur Cuba ce matin. ...  direct   2   \n",
      "1                 Cyclone nan fini osinon li pa fini  direct   7   \n",
      "2  Patnm, di Maryani relem pou li banm nouvel li ...  direct   8   \n",
      "3  UN reports Leogane 80-90 destroyed. Only Hospi...  direct   9   \n",
      "4  facade ouest d Haiti et le reste du pays aujou...  direct  12   \n",
      "\n",
      "                                          categories  \n",
      "0  related-1;request-0;offer-0;aid_related-0;medi...  \n",
      "1  related-1;request-0;offer-0;aid_related-1;medi...  \n",
      "2  related-1;request-0;offer-0;aid_related-0;medi...  \n",
      "3  related-1;request-1;offer-0;aid_related-1;medi...  \n",
      "4  related-1;request-0;offer-0;aid_related-0;medi...  \n"
     ]
    }
   ],
   "source": [
    "df_merged = pd.concat([df_messages, df_categories], axis=1)\n",
    "print(df_merged.shape)\n",
    "print(df_merged.head())"
   ]
  },
  {
   "cell_type": "code",
   "execution_count": 31,
   "metadata": {},
   "outputs": [
    {
     "data": {
      "text/plain": [
       "news      13068\n",
       "direct    10782\n",
       "social     2398\n",
       "Name: genre, dtype: int64"
      ]
     },
     "execution_count": 31,
     "metadata": {},
     "output_type": "execute_result"
    }
   ],
   "source": [
    "df_merged['genre'].value_counts()"
   ]
  },
  {
   "cell_type": "code",
   "execution_count": 32,
   "metadata": {},
   "outputs": [
    {
     "name": "stdout",
     "output_type": "stream",
     "text": [
      "(26215, 38)\n",
      "                                             message   genre  related  \\\n",
      "0  Weather update - a cold front from Cuba that c...  direct     True   \n",
      "1            Is the Hurricane over or is it not over  direct     True   \n",
      "2                    Looking for someone but no name  direct     True   \n",
      "3  UN reports Leogane 80-90 destroyed. Only Hospi...  direct     True   \n",
      "4  says: west side of Haiti, rest of the country ...  direct     True   \n",
      "\n",
      "   request  offer  aid_related  medical_help  medical_products  \\\n",
      "0    False  False        False         False             False   \n",
      "1    False  False         True         False             False   \n",
      "2    False  False        False         False             False   \n",
      "3     True  False         True         False              True   \n",
      "4    False  False        False         False             False   \n",
      "\n",
      "   search_and_rescue  security  ...  aid_centers  other_infrastructure  \\\n",
      "0              False     False  ...        False                 False   \n",
      "1              False     False  ...        False                 False   \n",
      "2              False     False  ...        False                 False   \n",
      "3              False     False  ...        False                 False   \n",
      "4              False     False  ...        False                 False   \n",
      "\n",
      "   weather_related  floods  storm   fire  earthquake   cold  other_weather  \\\n",
      "0            False   False  False  False       False  False          False   \n",
      "1             True   False   True  False       False  False          False   \n",
      "2            False   False  False  False       False  False          False   \n",
      "3            False   False  False  False       False  False          False   \n",
      "4            False   False  False  False       False  False          False   \n",
      "\n",
      "   direct_report  \n",
      "0          False  \n",
      "1          False  \n",
      "2          False  \n",
      "3          False  \n",
      "4          False  \n",
      "\n",
      "[5 rows x 38 columns]\n"
     ]
    }
   ],
   "source": [
    "# Transform features\n",
    "drop_features = lambda df: df.drop(columns=['id', 'original'])\n",
    "\n",
    "def get_categories(df):\n",
    "    column_names = list(map(lambda s: s[:-2], df['categories'].str.split(';')[0]))\n",
    "    df_dummies = df['categories'].str.split(';', expand=True).apply(lambda x: x.str[-1] == '1')\n",
    "    df_dummies.columns = column_names\n",
    "    df_merged = pd.concat([df, df_dummies], axis=1).drop(columns='categories')\n",
    "    return df_merged\n",
    "\n",
    "drop_duplicates = lambda df: df.drop_duplicates()\n",
    "\n",
    "fns = [drop_features, get_categories, drop_duplicates]\n",
    "df_trans = reduce(lambda res, fn: fn(res), fns, df_merged)\n",
    "print(df_trans.shape)\n",
    "print(df_trans.head())"
   ]
  },
  {
   "cell_type": "code",
   "execution_count": 33,
   "metadata": {},
   "outputs": [
    {
     "data": {
      "text/plain": [
       "471"
      ]
     },
     "execution_count": 33,
     "metadata": {},
     "output_type": "execute_result"
    }
   ],
   "source": [
    "df_trans[\"security\"].sum()"
   ]
  },
  {
   "cell_type": "code",
   "execution_count": 35,
   "metadata": {},
   "outputs": [
    {
     "name": "stdout",
     "output_type": "stream",
     "text": [
      "[('Weather update - a cold front from Cuba that could pass over Haiti', 'direct', 1, 0, 0, 0, 0, 0, 0, 0, 0, 0, 0, 0, 0, 0, 0, 0, 0, 0, 0, 0, 0, 0, 0, 0, 0, 0, 0, 0, 0, 0, 0, 0, 0, 0, 0, 0), ('Is the Hurricane over or is it not over', 'direct', 1, 0, 0, 1, 0, 0, 0, 0, 0, 0, 0, 0, 0, 0, 0, 0, 0, 0, 1, 0, 0, 0, 0, 0, 0, 0, 0, 0, 1, 0, 1, 0, 0, 0, 0, 0), ('Looking for someone but no name', 'direct', 1, 0, 0, 0, 0, 0, 0, 0, 0, 0, 0, 0, 0, 0, 0, 0, 0, 0, 0, 0, 0, 0, 0, 0, 0, 0, 0, 0, 0, 0, 0, 0, 0, 0, 0, 0), ('UN reports Leogane 80-90 destroyed. Only Hospital St. Croix functioning. Needs supplies desperately.', 'direct', 1, 1, 0, 1, 0, 1, 0, 0, 0, 0, 0, 0, 0, 0, 0, 0, 0, 0, 1, 1, 0, 1, 0, 0, 1, 0, 0, 0, 0, 0, 0, 0, 0, 0, 0, 0), ('says: west side of Haiti, rest of the country today and tonight', 'direct', 1, 0, 0, 0, 0, 0, 0, 0, 0, 0, 0, 0, 0, 0, 0, 0, 0, 0, 0, 0, 0, 0, 0, 0, 0, 0, 0, 0, 0, 0, 0, 0, 0, 0, 0, 0)]\n"
     ]
    }
   ],
   "source": [
    "# Save to an SQLite database\n",
    "engine = create_engine('sqlite:///data/DisasterResponse.db')\n",
    "\n",
    "with engine.connect() as connection:\n",
    "    df_trans.to_sql('messages', connection, index=False, if_exists='replace')\n",
    "    result = connection.execute(\"SELECT * FROM Messages LIMIT 5\")\n",
    "    print(result.fetchall())"
   ]
  }
 ],
 "metadata": {
  "kernelspec": {
   "display_name": "Python 3",
   "language": "python",
   "name": "python3"
  },
  "language_info": {
   "codemirror_mode": {
    "name": "ipython",
    "version": 3
   },
   "file_extension": ".py",
   "mimetype": "text/x-python",
   "name": "python",
   "nbconvert_exporter": "python",
   "pygments_lexer": "ipython3",
   "version": "3.7.7"
  }
 },
 "nbformat": 4,
 "nbformat_minor": 4
}
